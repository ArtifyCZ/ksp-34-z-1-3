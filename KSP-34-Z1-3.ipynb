{
 "cells": [
  {
   "cell_type": "code",
   "execution_count": null,
   "id": "9b7cad9b",
   "metadata": {},
   "outputs": [],
   "source": [
    "import requests"
   ]
  },
  {
   "cell_type": "code",
   "execution_count": null,
   "id": "e9ae5aee",
   "metadata": {},
   "outputs": [],
   "source": [
    "class HttpService:\n",
    "    def __init__(self, url):\n",
    "        self._url = url\n",
    "        return\n",
    "    \n",
    "    def get(self, uri):\n",
    "        url = self._url + uri\n",
    "        \n",
    "        req = requests.get(url)\n",
    "        return req.text.rstrip()"
   ]
  },
  {
   "cell_type": "code",
   "execution_count": null,
   "id": "cdf1c1bb",
   "metadata": {},
   "outputs": [],
   "source": [
    "class Guess:\n",
    "    def __init__(self, isFinal, value):\n",
    "        self._final = isFinal\n",
    "        self._value = value\n",
    "        return\n",
    "    \n",
    "    def isFinal(self):\n",
    "        return (self._final == 0)\n",
    "    \n",
    "    def getValue(self):\n",
    "        if not self.isFinal():\n",
    "            return None\n",
    "        \n",
    "        return self._value\n",
    "    \n",
    "    def isGreater(self):\n",
    "        return (self._final == 1)\n",
    "    \n",
    "    def isLower(self):\n",
    "        return (self._final == -1)\n",
    "\n",
    "class GuessService:\n",
    "    def __init__(self, http, fromNumber, toNumber):\n",
    "        self._http = http\n",
    "        self._from = fromNumber\n",
    "        self._to = toNumber\n",
    "        return\n",
    "    \n",
    "    def getValAtMid(self):\n",
    "        atMid = int(self._from + ((self._to - self._from) / 2))\n",
    "        return atMid\n",
    "    \n",
    "    def guessValue(self):\n",
    "        num = self.getValAtMid()\n",
    "        textVal = self._http.get(\"&q={}\".format(num))\n",
    "        vals = { \"Pridej\": 1, \"Uber\": -1, \"Trefa\": 0 }\n",
    "        return Guess(vals[textVal], num)\n",
    "    \n",
    "    def setFrom(self, fromNumber):\n",
    "        self._from = fromNumber\n",
    "        return\n",
    "    \n",
    "    def setTo(self, toNumber):\n",
    "        self._to = toNumber\n",
    "        return\n",
    "\n",
    "def guess(fromNum, toNum, url):\n",
    "    g = GuessService(HttpService(url), fromNum, toNum)\n",
    "    \n",
    "    result = 0\n",
    "    \n",
    "    while True:\n",
    "        g.setFrom(fromNum)\n",
    "        g.setTo(toNum)\n",
    "        \n",
    "        print(\"From {} to {}\".format(fromNum, toNum))\n",
    "        \n",
    "        res = g.guessValue()\n",
    "        if res.isFinal():\n",
    "            result = res.getValue()\n",
    "            break\n",
    "        elif res.isGreater():\n",
    "            fromNum = g.getValAtMid()\n",
    "            continue\n",
    "        elif res.isLower():\n",
    "            toNum = g.getValAtMid()\n",
    "            continue\n",
    "    \n",
    "    return result"
   ]
  },
  {
   "cell_type": "code",
   "execution_count": null,
   "id": "f08f9262",
   "metadata": {},
   "outputs": [],
   "source": [
    "r = int(input())\n",
    "url = input()\n",
    "\n",
    "n = guess(1, r, url)\n",
    "print(\"result: {}\".format(n))"
   ]
  }
 ],
 "metadata": {
  "kernelspec": {
   "display_name": "Python 3 (ipykernel)",
   "language": "python",
   "name": "python3"
  },
  "language_info": {
   "codemirror_mode": {
    "name": "ipython",
    "version": 3
   },
   "file_extension": ".py",
   "mimetype": "text/x-python",
   "name": "python",
   "nbconvert_exporter": "python",
   "pygments_lexer": "ipython3",
   "version": "3.9.5"
  }
 },
 "nbformat": 4,
 "nbformat_minor": 5
}
